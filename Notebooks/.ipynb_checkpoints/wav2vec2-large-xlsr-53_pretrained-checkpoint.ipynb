{
 "cells": [
  {
   "cell_type": "code",
   "execution_count": 1,
   "metadata": {
    "colab": {
     "base_uri": "https://localhost:8080/"
    },
    "executionInfo": {
     "elapsed": 5231,
     "status": "ok",
     "timestamp": 1741838765640,
     "user": {
      "displayName": "Kristeen Chase",
      "userId": "06112654503790926343"
     },
     "user_tz": 240
    },
    "id": "sHigXDVFnFtH",
    "outputId": "07f5081b-20fd-4bf9-c382-0bdba6adfcf0"
   },
   "outputs": [],
   "source": [
    "#!pip install --upgrade pip\n",
    "# !pip install --upgrade \"pip<24.1\"\n"
   ]
  },
  {
   "cell_type": "code",
   "execution_count": 2,
   "metadata": {
    "colab": {
     "base_uri": "https://localhost:8080/"
    },
    "executionInfo": {
     "elapsed": 149706,
     "status": "ok",
     "timestamp": 1743388242985,
     "user": {
      "displayName": "Kristeen Chase",
      "userId": "06112654503790926343"
     },
     "user_tz": 240
    },
    "id": "KKf7N6VgwsTT",
    "outputId": "aa344bcd-49b2-4a82-e6e5-8c237c165e7b",
    "scrolled": true
   },
   "outputs": [
    {
     "name": "stdout",
     "output_type": "stream",
     "text": [
      "Collecting datasets\n",
      "  Using cached datasets-3.6.0-py3-none-any.whl.metadata (19 kB)\n",
      "Collecting filelock (from datasets)\n",
      "  Using cached filelock-3.18.0-py3-none-any.whl.metadata (2.9 kB)\n",
      "Collecting numpy>=1.17 (from datasets)\n",
      "  Using cached numpy-2.2.5-cp311-cp311-manylinux_2_17_x86_64.manylinux2014_x86_64.whl.metadata (62 kB)\n",
      "Collecting pyarrow>=15.0.0 (from datasets)\n",
      "  Using cached pyarrow-20.0.0-cp311-cp311-manylinux_2_28_x86_64.whl.metadata (3.3 kB)\n",
      "Collecting dill<0.3.9,>=0.3.0 (from datasets)\n",
      "  Using cached dill-0.3.8-py3-none-any.whl.metadata (10 kB)\n",
      "Collecting pandas (from datasets)\n",
      "  Using cached pandas-2.2.3-cp311-cp311-manylinux_2_17_x86_64.manylinux2014_x86_64.whl.metadata (89 kB)\n",
      "Requirement already satisfied: requests>=2.32.2 in /home/kris/Documents/fyp/fyp_artefact/fyp_env/lib/python3.11/site-packages (from datasets) (2.32.3)\n",
      "Collecting tqdm>=4.66.3 (from datasets)\n",
      "  Using cached tqdm-4.67.1-py3-none-any.whl.metadata (57 kB)\n",
      "Collecting xxhash (from datasets)\n",
      "  Using cached xxhash-3.5.0-cp311-cp311-manylinux_2_17_x86_64.manylinux2014_x86_64.whl.metadata (12 kB)\n",
      "Collecting multiprocess<0.70.17 (from datasets)\n",
      "  Using cached multiprocess-0.70.16-py311-none-any.whl.metadata (7.2 kB)\n",
      "Collecting fsspec<=2025.3.0,>=2023.1.0 (from fsspec[http]<=2025.3.0,>=2023.1.0->datasets)\n",
      "  Using cached fsspec-2025.3.0-py3-none-any.whl.metadata (11 kB)\n",
      "Collecting huggingface-hub>=0.24.0 (from datasets)\n",
      "  Using cached huggingface_hub-0.31.1-py3-none-any.whl.metadata (13 kB)\n",
      "Requirement already satisfied: packaging in /home/kris/Documents/fyp/fyp_artefact/fyp_env/lib/python3.11/site-packages (from datasets) (25.0)\n",
      "Requirement already satisfied: pyyaml>=5.1 in /home/kris/Documents/fyp/fyp_artefact/fyp_env/lib/python3.11/site-packages (from datasets) (6.0.2)\n",
      "Collecting aiohttp!=4.0.0a0,!=4.0.0a1 (from fsspec[http]<=2025.3.0,>=2023.1.0->datasets)\n",
      "  Using cached aiohttp-3.11.18-cp311-cp311-manylinux_2_17_x86_64.manylinux2014_x86_64.whl.metadata (7.7 kB)\n",
      "Requirement already satisfied: typing-extensions>=3.7.4.3 in /home/kris/Documents/fyp/fyp_artefact/fyp_env/lib/python3.11/site-packages (from huggingface-hub>=0.24.0->datasets) (4.13.2)\n",
      "Collecting hf-xet<2.0.0,>=1.1.0 (from huggingface-hub>=0.24.0->datasets)\n",
      "  Using cached hf_xet-1.1.0-cp37-abi3-manylinux_2_17_x86_64.manylinux2014_x86_64.whl.metadata (494 bytes)\n",
      "Requirement already satisfied: charset-normalizer<4,>=2 in /home/kris/Documents/fyp/fyp_artefact/fyp_env/lib/python3.11/site-packages (from requests>=2.32.2->datasets) (3.4.2)\n",
      "Requirement already satisfied: idna<4,>=2.5 in /home/kris/Documents/fyp/fyp_artefact/fyp_env/lib/python3.11/site-packages (from requests>=2.32.2->datasets) (3.10)\n",
      "Requirement already satisfied: urllib3<3,>=1.21.1 in /home/kris/Documents/fyp/fyp_artefact/fyp_env/lib/python3.11/site-packages (from requests>=2.32.2->datasets) (2.4.0)\n",
      "Requirement already satisfied: certifi>=2017.4.17 in /home/kris/Documents/fyp/fyp_artefact/fyp_env/lib/python3.11/site-packages (from requests>=2.32.2->datasets) (2025.4.26)\n",
      "Requirement already satisfied: python-dateutil>=2.8.2 in /home/kris/Documents/fyp/fyp_artefact/fyp_env/lib/python3.11/site-packages (from pandas->datasets) (2.9.0.post0)\n",
      "Collecting pytz>=2020.1 (from pandas->datasets)\n",
      "  Using cached pytz-2025.2-py2.py3-none-any.whl.metadata (22 kB)\n",
      "Collecting tzdata>=2022.7 (from pandas->datasets)\n",
      "  Using cached tzdata-2025.2-py2.py3-none-any.whl.metadata (1.4 kB)\n",
      "Collecting aiohappyeyeballs>=2.3.0 (from aiohttp!=4.0.0a0,!=4.0.0a1->fsspec[http]<=2025.3.0,>=2023.1.0->datasets)\n",
      "  Using cached aiohappyeyeballs-2.6.1-py3-none-any.whl.metadata (5.9 kB)\n",
      "Collecting aiosignal>=1.1.2 (from aiohttp!=4.0.0a0,!=4.0.0a1->fsspec[http]<=2025.3.0,>=2023.1.0->datasets)\n",
      "  Using cached aiosignal-1.3.2-py2.py3-none-any.whl.metadata (3.8 kB)\n",
      "Requirement already satisfied: attrs>=17.3.0 in /home/kris/Documents/fyp/fyp_artefact/fyp_env/lib/python3.11/site-packages (from aiohttp!=4.0.0a0,!=4.0.0a1->fsspec[http]<=2025.3.0,>=2023.1.0->datasets) (25.3.0)\n",
      "Collecting frozenlist>=1.1.1 (from aiohttp!=4.0.0a0,!=4.0.0a1->fsspec[http]<=2025.3.0,>=2023.1.0->datasets)\n",
      "  Using cached frozenlist-1.6.0-cp311-cp311-manylinux_2_5_x86_64.manylinux1_x86_64.manylinux_2_17_x86_64.manylinux2014_x86_64.whl.metadata (16 kB)\n",
      "Collecting multidict<7.0,>=4.5 (from aiohttp!=4.0.0a0,!=4.0.0a1->fsspec[http]<=2025.3.0,>=2023.1.0->datasets)\n",
      "  Using cached multidict-6.4.3-cp311-cp311-manylinux_2_17_x86_64.manylinux2014_x86_64.whl.metadata (5.3 kB)\n",
      "Collecting propcache>=0.2.0 (from aiohttp!=4.0.0a0,!=4.0.0a1->fsspec[http]<=2025.3.0,>=2023.1.0->datasets)\n",
      "  Using cached propcache-0.3.1-cp311-cp311-manylinux_2_17_x86_64.manylinux2014_x86_64.whl.metadata (10 kB)\n",
      "Collecting yarl<2.0,>=1.17.0 (from aiohttp!=4.0.0a0,!=4.0.0a1->fsspec[http]<=2025.3.0,>=2023.1.0->datasets)\n",
      "  Using cached yarl-1.20.0-cp311-cp311-manylinux_2_17_x86_64.manylinux2014_x86_64.whl.metadata (72 kB)\n",
      "Requirement already satisfied: six>=1.5 in /home/kris/Documents/fyp/fyp_artefact/fyp_env/lib/python3.11/site-packages (from python-dateutil>=2.8.2->pandas->datasets) (1.17.0)\n",
      "Using cached datasets-3.6.0-py3-none-any.whl (491 kB)\n",
      "Using cached dill-0.3.8-py3-none-any.whl (116 kB)\n",
      "Using cached fsspec-2025.3.0-py3-none-any.whl (193 kB)\n",
      "Using cached huggingface_hub-0.31.1-py3-none-any.whl (484 kB)\n",
      "Using cached multiprocess-0.70.16-py311-none-any.whl (143 kB)\n",
      "Using cached numpy-2.2.5-cp311-cp311-manylinux_2_17_x86_64.manylinux2014_x86_64.whl (16.4 MB)\n",
      "Using cached pyarrow-20.0.0-cp311-cp311-manylinux_2_28_x86_64.whl (42.3 MB)\n",
      "Using cached tqdm-4.67.1-py3-none-any.whl (78 kB)\n",
      "Using cached filelock-3.18.0-py3-none-any.whl (16 kB)\n",
      "Using cached pandas-2.2.3-cp311-cp311-manylinux_2_17_x86_64.manylinux2014_x86_64.whl (13.1 MB)\n",
      "Using cached xxhash-3.5.0-cp311-cp311-manylinux_2_17_x86_64.manylinux2014_x86_64.whl (194 kB)\n",
      "Using cached aiohttp-3.11.18-cp311-cp311-manylinux_2_17_x86_64.manylinux2014_x86_64.whl (1.7 MB)\n",
      "Using cached hf_xet-1.1.0-cp37-abi3-manylinux_2_17_x86_64.manylinux2014_x86_64.whl (53.6 MB)\n",
      "Using cached pytz-2025.2-py2.py3-none-any.whl (509 kB)\n",
      "Using cached tzdata-2025.2-py2.py3-none-any.whl (347 kB)\n",
      "Using cached aiohappyeyeballs-2.6.1-py3-none-any.whl (15 kB)\n",
      "Using cached aiosignal-1.3.2-py2.py3-none-any.whl (7.6 kB)\n",
      "Using cached frozenlist-1.6.0-cp311-cp311-manylinux_2_5_x86_64.manylinux1_x86_64.manylinux_2_17_x86_64.manylinux2014_x86_64.whl (313 kB)\n",
      "Using cached multidict-6.4.3-cp311-cp311-manylinux_2_17_x86_64.manylinux2014_x86_64.whl (223 kB)\n",
      "Using cached propcache-0.3.1-cp311-cp311-manylinux_2_17_x86_64.manylinux2014_x86_64.whl (232 kB)\n",
      "Using cached yarl-1.20.0-cp311-cp311-manylinux_2_17_x86_64.manylinux2014_x86_64.whl (358 kB)\n",
      "Installing collected packages: pytz, xxhash, tzdata, tqdm, pyarrow, propcache, numpy, multidict, hf-xet, fsspec, frozenlist, filelock, dill, aiohappyeyeballs, yarl, pandas, multiprocess, huggingface-hub, aiosignal, aiohttp, datasets\n",
      "Successfully installed aiohappyeyeballs-2.6.1 aiohttp-3.11.18 aiosignal-1.3.2 datasets-3.6.0 dill-0.3.8 filelock-3.18.0 frozenlist-1.6.0 fsspec-2025.3.0 hf-xet-1.1.0 huggingface-hub-0.31.1 multidict-6.4.3 multiprocess-0.70.16 numpy-2.2.5 pandas-2.2.3 propcache-0.3.1 pyarrow-20.0.0 pytz-2025.2 tqdm-4.67.1 tzdata-2025.2 xxhash-3.5.0 yarl-1.20.0\n",
      "\n",
      "\u001b[1m[\u001b[0m\u001b[34;49mnotice\u001b[0m\u001b[1;39;49m]\u001b[0m\u001b[39;49m A new release of pip is available: \u001b[0m\u001b[31;49m24.0\u001b[0m\u001b[39;49m -> \u001b[0m\u001b[32;49m25.1.1\u001b[0m\n",
      "\u001b[1m[\u001b[0m\u001b[34;49mnotice\u001b[0m\u001b[1;39;49m]\u001b[0m\u001b[39;49m To update, run: \u001b[0m\u001b[32;49mpip install --upgrade pip\u001b[0m\n",
      "Collecting transformers\n",
      "  Using cached transformers-4.51.3-py3-none-any.whl.metadata (38 kB)\n",
      "Requirement already satisfied: filelock in /home/kris/Documents/fyp/fyp_artefact/fyp_env/lib/python3.11/site-packages (from transformers) (3.18.0)\n",
      "Requirement already satisfied: huggingface-hub<1.0,>=0.30.0 in /home/kris/Documents/fyp/fyp_artefact/fyp_env/lib/python3.11/site-packages (from transformers) (0.31.1)\n",
      "Requirement already satisfied: numpy>=1.17 in /home/kris/Documents/fyp/fyp_artefact/fyp_env/lib/python3.11/site-packages (from transformers) (2.2.5)\n",
      "Requirement already satisfied: packaging>=20.0 in /home/kris/Documents/fyp/fyp_artefact/fyp_env/lib/python3.11/site-packages (from transformers) (25.0)\n",
      "Requirement already satisfied: pyyaml>=5.1 in /home/kris/Documents/fyp/fyp_artefact/fyp_env/lib/python3.11/site-packages (from transformers) (6.0.2)\n",
      "Collecting regex!=2019.12.17 (from transformers)\n",
      "  Using cached regex-2024.11.6-cp311-cp311-manylinux_2_17_x86_64.manylinux2014_x86_64.whl.metadata (40 kB)\n",
      "Requirement already satisfied: requests in /home/kris/Documents/fyp/fyp_artefact/fyp_env/lib/python3.11/site-packages (from transformers) (2.32.3)\n",
      "Collecting tokenizers<0.22,>=0.21 (from transformers)\n",
      "  Using cached tokenizers-0.21.1-cp39-abi3-manylinux_2_17_x86_64.manylinux2014_x86_64.whl.metadata (6.8 kB)\n",
      "Collecting safetensors>=0.4.3 (from transformers)\n",
      "  Using cached safetensors-0.5.3-cp38-abi3-manylinux_2_17_x86_64.manylinux2014_x86_64.whl.metadata (3.8 kB)\n",
      "Requirement already satisfied: tqdm>=4.27 in /home/kris/Documents/fyp/fyp_artefact/fyp_env/lib/python3.11/site-packages (from transformers) (4.67.1)\n",
      "Requirement already satisfied: fsspec>=2023.5.0 in /home/kris/Documents/fyp/fyp_artefact/fyp_env/lib/python3.11/site-packages (from huggingface-hub<1.0,>=0.30.0->transformers) (2025.3.0)\n",
      "Requirement already satisfied: typing-extensions>=3.7.4.3 in /home/kris/Documents/fyp/fyp_artefact/fyp_env/lib/python3.11/site-packages (from huggingface-hub<1.0,>=0.30.0->transformers) (4.13.2)\n",
      "Requirement already satisfied: hf-xet<2.0.0,>=1.1.0 in /home/kris/Documents/fyp/fyp_artefact/fyp_env/lib/python3.11/site-packages (from huggingface-hub<1.0,>=0.30.0->transformers) (1.1.0)\n",
      "Requirement already satisfied: charset-normalizer<4,>=2 in /home/kris/Documents/fyp/fyp_artefact/fyp_env/lib/python3.11/site-packages (from requests->transformers) (3.4.2)\n",
      "Requirement already satisfied: idna<4,>=2.5 in /home/kris/Documents/fyp/fyp_artefact/fyp_env/lib/python3.11/site-packages (from requests->transformers) (3.10)\n",
      "Requirement already satisfied: urllib3<3,>=1.21.1 in /home/kris/Documents/fyp/fyp_artefact/fyp_env/lib/python3.11/site-packages (from requests->transformers) (2.4.0)\n",
      "Requirement already satisfied: certifi>=2017.4.17 in /home/kris/Documents/fyp/fyp_artefact/fyp_env/lib/python3.11/site-packages (from requests->transformers) (2025.4.26)\n",
      "Using cached transformers-4.51.3-py3-none-any.whl (10.4 MB)\n",
      "Using cached regex-2024.11.6-cp311-cp311-manylinux_2_17_x86_64.manylinux2014_x86_64.whl (792 kB)\n",
      "Using cached safetensors-0.5.3-cp38-abi3-manylinux_2_17_x86_64.manylinux2014_x86_64.whl (471 kB)\n",
      "Using cached tokenizers-0.21.1-cp39-abi3-manylinux_2_17_x86_64.manylinux2014_x86_64.whl (3.0 MB)\n",
      "Installing collected packages: safetensors, regex, tokenizers, transformers\n",
      "Successfully installed regex-2024.11.6 safetensors-0.5.3 tokenizers-0.21.1 transformers-4.51.3\n",
      "\n",
      "\u001b[1m[\u001b[0m\u001b[34;49mnotice\u001b[0m\u001b[1;39;49m]\u001b[0m\u001b[39;49m A new release of pip is available: \u001b[0m\u001b[31;49m24.0\u001b[0m\u001b[39;49m -> \u001b[0m\u001b[32;49m25.1.1\u001b[0m\n",
      "\u001b[1m[\u001b[0m\u001b[34;49mnotice\u001b[0m\u001b[1;39;49m]\u001b[0m\u001b[39;49m To update, run: \u001b[0m\u001b[32;49mpip install --upgrade pip\u001b[0m\n",
      "Collecting torchaudio\n",
      "  Using cached torchaudio-2.7.0-cp311-cp311-manylinux_2_28_x86_64.whl.metadata (6.6 kB)\n",
      "Collecting torch==2.7.0 (from torchaudio)\n",
      "  Using cached torch-2.7.0-cp311-cp311-manylinux_2_28_x86_64.whl.metadata (29 kB)\n",
      "Requirement already satisfied: filelock in /home/kris/Documents/fyp/fyp_artefact/fyp_env/lib/python3.11/site-packages (from torch==2.7.0->torchaudio) (3.18.0)\n",
      "Requirement already satisfied: typing-extensions>=4.10.0 in /home/kris/Documents/fyp/fyp_artefact/fyp_env/lib/python3.11/site-packages (from torch==2.7.0->torchaudio) (4.13.2)\n",
      "Requirement already satisfied: sympy>=1.13.3 in /home/kris/Documents/fyp/fyp_artefact/fyp_env/lib/python3.11/site-packages (from torch==2.7.0->torchaudio) (1.14.0)\n",
      "Collecting networkx (from torch==2.7.0->torchaudio)\n",
      "  Using cached networkx-3.4.2-py3-none-any.whl.metadata (6.3 kB)\n",
      "Requirement already satisfied: jinja2 in /home/kris/Documents/fyp/fyp_artefact/fyp_env/lib/python3.11/site-packages (from torch==2.7.0->torchaudio) (3.1.6)\n",
      "Requirement already satisfied: fsspec in /home/kris/Documents/fyp/fyp_artefact/fyp_env/lib/python3.11/site-packages (from torch==2.7.0->torchaudio) (2025.3.0)\n",
      "Requirement already satisfied: nvidia-cuda-nvrtc-cu12==12.6.77 in /home/kris/Documents/fyp/fyp_artefact/fyp_env/lib/python3.11/site-packages (from torch==2.7.0->torchaudio) (12.6.77)\n",
      "Requirement already satisfied: nvidia-cuda-runtime-cu12==12.6.77 in /home/kris/Documents/fyp/fyp_artefact/fyp_env/lib/python3.11/site-packages (from torch==2.7.0->torchaudio) (12.6.77)\n",
      "Requirement already satisfied: nvidia-cuda-cupti-cu12==12.6.80 in /home/kris/Documents/fyp/fyp_artefact/fyp_env/lib/python3.11/site-packages (from torch==2.7.0->torchaudio) (12.6.80)\n",
      "Collecting nvidia-cudnn-cu12==9.5.1.17 (from torch==2.7.0->torchaudio)\n",
      "  Using cached nvidia_cudnn_cu12-9.5.1.17-py3-none-manylinux_2_28_x86_64.whl.metadata (1.6 kB)\n",
      "Collecting nvidia-cublas-cu12==12.6.4.1 (from torch==2.7.0->torchaudio)\n",
      "  Using cached nvidia_cublas_cu12-12.6.4.1-py3-none-manylinux2014_x86_64.manylinux_2_17_x86_64.whl.metadata (1.5 kB)\n",
      "Collecting nvidia-cufft-cu12==11.3.0.4 (from torch==2.7.0->torchaudio)\n",
      "  Using cached nvidia_cufft_cu12-11.3.0.4-py3-none-manylinux2014_x86_64.manylinux_2_17_x86_64.whl.metadata (1.5 kB)\n",
      "Requirement already satisfied: nvidia-curand-cu12==10.3.7.77 in /home/kris/Documents/fyp/fyp_artefact/fyp_env/lib/python3.11/site-packages (from torch==2.7.0->torchaudio) (10.3.7.77)\n",
      "Collecting nvidia-cusolver-cu12==11.7.1.2 (from torch==2.7.0->torchaudio)\n",
      "  Using cached nvidia_cusolver_cu12-11.7.1.2-py3-none-manylinux2014_x86_64.manylinux_2_17_x86_64.whl.metadata (1.6 kB)\n",
      "Collecting nvidia-cusparse-cu12==12.5.4.2 (from torch==2.7.0->torchaudio)\n",
      "  Using cached nvidia_cusparse_cu12-12.5.4.2-py3-none-manylinux2014_x86_64.manylinux_2_17_x86_64.whl.metadata (1.6 kB)\n",
      "Requirement already satisfied: nvidia-cusparselt-cu12==0.6.3 in /home/kris/Documents/fyp/fyp_artefact/fyp_env/lib/python3.11/site-packages (from torch==2.7.0->torchaudio) (0.6.3)\n",
      "Requirement already satisfied: nvidia-nccl-cu12==2.26.2 in /home/kris/Documents/fyp/fyp_artefact/fyp_env/lib/python3.11/site-packages (from torch==2.7.0->torchaudio) (2.26.2)\n",
      "Requirement already satisfied: nvidia-nvtx-cu12==12.6.77 in /home/kris/Documents/fyp/fyp_artefact/fyp_env/lib/python3.11/site-packages (from torch==2.7.0->torchaudio) (12.6.77)\n",
      "Requirement already satisfied: nvidia-nvjitlink-cu12==12.6.85 in /home/kris/Documents/fyp/fyp_artefact/fyp_env/lib/python3.11/site-packages (from torch==2.7.0->torchaudio) (12.6.85)\n",
      "Requirement already satisfied: nvidia-cufile-cu12==1.11.1.6 in /home/kris/Documents/fyp/fyp_artefact/fyp_env/lib/python3.11/site-packages (from torch==2.7.0->torchaudio) (1.11.1.6)\n",
      "Requirement already satisfied: triton==3.3.0 in /home/kris/Documents/fyp/fyp_artefact/fyp_env/lib/python3.11/site-packages (from torch==2.7.0->torchaudio) (3.3.0)\n",
      "Requirement already satisfied: setuptools>=40.8.0 in /home/kris/Documents/fyp/fyp_artefact/fyp_env/lib/python3.11/site-packages (from triton==3.3.0->torch==2.7.0->torchaudio) (65.5.0)\n",
      "Requirement already satisfied: mpmath<1.4,>=1.1.0 in /home/kris/Documents/fyp/fyp_artefact/fyp_env/lib/python3.11/site-packages (from sympy>=1.13.3->torch==2.7.0->torchaudio) (1.3.0)\n",
      "Requirement already satisfied: MarkupSafe>=2.0 in /home/kris/Documents/fyp/fyp_artefact/fyp_env/lib/python3.11/site-packages (from jinja2->torch==2.7.0->torchaudio) (3.0.2)\n",
      "Using cached torchaudio-2.7.0-cp311-cp311-manylinux_2_28_x86_64.whl (3.5 MB)\n",
      "Using cached torch-2.7.0-cp311-cp311-manylinux_2_28_x86_64.whl (865.2 MB)\n",
      "Using cached nvidia_cublas_cu12-12.6.4.1-py3-none-manylinux2014_x86_64.manylinux_2_17_x86_64.whl (393.1 MB)\n",
      "Using cached nvidia_cudnn_cu12-9.5.1.17-py3-none-manylinux_2_28_x86_64.whl (571.0 MB)\n",
      "Using cached nvidia_cufft_cu12-11.3.0.4-py3-none-manylinux2014_x86_64.manylinux_2_17_x86_64.whl (200.2 MB)\n",
      "Using cached nvidia_cusolver_cu12-11.7.1.2-py3-none-manylinux2014_x86_64.manylinux_2_17_x86_64.whl (158.2 MB)\n",
      "Using cached nvidia_cusparse_cu12-12.5.4.2-py3-none-manylinux2014_x86_64.manylinux_2_17_x86_64.whl (216.6 MB)\n",
      "Using cached networkx-3.4.2-py3-none-any.whl (1.7 MB)\n",
      "Installing collected packages: nvidia-cusparse-cu12, nvidia-cufft-cu12, nvidia-cublas-cu12, networkx, nvidia-cusolver-cu12, nvidia-cudnn-cu12, torch, torchaudio\n",
      "Successfully installed networkx-3.4.2 nvidia-cublas-cu12-12.6.4.1 nvidia-cudnn-cu12-9.5.1.17 nvidia-cufft-cu12-11.3.0.4 nvidia-cusolver-cu12-11.7.1.2 nvidia-cusparse-cu12-12.5.4.2 torch-2.7.0 torchaudio-2.7.0\n",
      "\n",
      "\u001b[1m[\u001b[0m\u001b[34;49mnotice\u001b[0m\u001b[1;39;49m]\u001b[0m\u001b[39;49m A new release of pip is available: \u001b[0m\u001b[31;49m24.0\u001b[0m\u001b[39;49m -> \u001b[0m\u001b[32;49m25.1.1\u001b[0m\n",
      "\u001b[1m[\u001b[0m\u001b[34;49mnotice\u001b[0m\u001b[1;39;49m]\u001b[0m\u001b[39;49m To update, run: \u001b[0m\u001b[32;49mpip install --upgrade pip\u001b[0m\n",
      "Collecting librosa\n",
      "  Using cached librosa-0.11.0-py3-none-any.whl.metadata (8.7 kB)\n",
      "Requirement already satisfied: audioread>=2.1.9 in /home/kris/Documents/fyp/fyp_artefact/fyp_env/lib/python3.11/site-packages (from librosa) (3.0.1)\n",
      "Requirement already satisfied: numba>=0.51.0 in /home/kris/Documents/fyp/fyp_artefact/fyp_env/lib/python3.11/site-packages (from librosa) (0.61.2)\n",
      "Requirement already satisfied: numpy>=1.22.3 in /home/kris/Documents/fyp/fyp_artefact/fyp_env/lib/python3.11/site-packages (from librosa) (1.24.4)\n",
      "Requirement already satisfied: scipy>=1.6.0 in /home/kris/Documents/fyp/fyp_artefact/fyp_env/lib/python3.11/site-packages (from librosa) (1.15.2)\n",
      "Requirement already satisfied: scikit-learn>=1.1.0 in /home/kris/Documents/fyp/fyp_artefact/fyp_env/lib/python3.11/site-packages (from librosa) (1.6.1)\n",
      "Requirement already satisfied: joblib>=1.0 in /home/kris/Documents/fyp/fyp_artefact/fyp_env/lib/python3.11/site-packages (from librosa) (1.5.0)\n",
      "Requirement already satisfied: decorator>=4.3.0 in /home/kris/Documents/fyp/fyp_artefact/fyp_env/lib/python3.11/site-packages (from librosa) (5.2.1)\n",
      "Requirement already satisfied: soundfile>=0.12.1 in /home/kris/Documents/fyp/fyp_artefact/fyp_env/lib/python3.11/site-packages (from librosa) (0.13.1)\n",
      "Requirement already satisfied: pooch>=1.1 in /home/kris/Documents/fyp/fyp_artefact/fyp_env/lib/python3.11/site-packages (from librosa) (1.8.2)\n",
      "Requirement already satisfied: soxr>=0.3.2 in /home/kris/Documents/fyp/fyp_artefact/fyp_env/lib/python3.11/site-packages (from librosa) (0.5.0.post1)\n",
      "Requirement already satisfied: typing_extensions>=4.1.1 in /home/kris/Documents/fyp/fyp_artefact/fyp_env/lib/python3.11/site-packages (from librosa) (4.13.2)\n",
      "Requirement already satisfied: lazy_loader>=0.1 in /home/kris/Documents/fyp/fyp_artefact/fyp_env/lib/python3.11/site-packages (from librosa) (0.4)\n",
      "Requirement already satisfied: msgpack>=1.0 in /home/kris/Documents/fyp/fyp_artefact/fyp_env/lib/python3.11/site-packages (from librosa) (1.1.0)\n",
      "Requirement already satisfied: packaging in /home/kris/Documents/fyp/fyp_artefact/fyp_env/lib/python3.11/site-packages (from lazy_loader>=0.1->librosa) (25.0)\n",
      "Requirement already satisfied: llvmlite<0.45,>=0.44.0dev0 in /home/kris/Documents/fyp/fyp_artefact/fyp_env/lib/python3.11/site-packages (from numba>=0.51.0->librosa) (0.44.0)\n",
      "Requirement already satisfied: platformdirs>=2.5.0 in /home/kris/Documents/fyp/fyp_artefact/fyp_env/lib/python3.11/site-packages (from pooch>=1.1->librosa) (4.3.7)\n",
      "Requirement already satisfied: requests>=2.19.0 in /home/kris/Documents/fyp/fyp_artefact/fyp_env/lib/python3.11/site-packages (from pooch>=1.1->librosa) (2.32.3)\n",
      "Requirement already satisfied: threadpoolctl>=3.1.0 in /home/kris/Documents/fyp/fyp_artefact/fyp_env/lib/python3.11/site-packages (from scikit-learn>=1.1.0->librosa) (3.6.0)\n",
      "Requirement already satisfied: cffi>=1.0 in /home/kris/Documents/fyp/fyp_artefact/fyp_env/lib/python3.11/site-packages (from soundfile>=0.12.1->librosa) (1.17.1)\n",
      "Requirement already satisfied: pycparser in /home/kris/Documents/fyp/fyp_artefact/fyp_env/lib/python3.11/site-packages (from cffi>=1.0->soundfile>=0.12.1->librosa) (2.22)\n",
      "Requirement already satisfied: charset-normalizer<4,>=2 in /home/kris/Documents/fyp/fyp_artefact/fyp_env/lib/python3.11/site-packages (from requests>=2.19.0->pooch>=1.1->librosa) (3.4.2)\n",
      "Requirement already satisfied: idna<4,>=2.5 in /home/kris/Documents/fyp/fyp_artefact/fyp_env/lib/python3.11/site-packages (from requests>=2.19.0->pooch>=1.1->librosa) (3.10)\n",
      "Requirement already satisfied: urllib3<3,>=1.21.1 in /home/kris/Documents/fyp/fyp_artefact/fyp_env/lib/python3.11/site-packages (from requests>=2.19.0->pooch>=1.1->librosa) (2.4.0)\n",
      "Requirement already satisfied: certifi>=2017.4.17 in /home/kris/Documents/fyp/fyp_artefact/fyp_env/lib/python3.11/site-packages (from requests>=2.19.0->pooch>=1.1->librosa) (2025.4.26)\n",
      "Using cached librosa-0.11.0-py3-none-any.whl (260 kB)\n",
      "Installing collected packages: librosa\n",
      "Successfully installed librosa-0.11.0\n",
      "\n",
      "\u001b[1m[\u001b[0m\u001b[34;49mnotice\u001b[0m\u001b[1;39;49m]\u001b[0m\u001b[39;49m A new release of pip is available: \u001b[0m\u001b[31;49m24.0\u001b[0m\u001b[39;49m -> \u001b[0m\u001b[32;49m25.1.1\u001b[0m\n",
      "\u001b[1m[\u001b[0m\u001b[34;49mnotice\u001b[0m\u001b[1;39;49m]\u001b[0m\u001b[39;49m To update, run: \u001b[0m\u001b[32;49mpip install --upgrade pip\u001b[0m\n",
      "Requirement already satisfied: jiwer in /home/kris/Documents/fyp/fyp_artefact/fyp_env/lib/python3.11/site-packages (3.1.0)\n",
      "Requirement already satisfied: click>=8.1.8 in /home/kris/Documents/fyp/fyp_artefact/fyp_env/lib/python3.11/site-packages (from jiwer) (8.1.8)\n",
      "Requirement already satisfied: rapidfuzz>=3.9.7 in /home/kris/Documents/fyp/fyp_artefact/fyp_env/lib/python3.11/site-packages (from jiwer) (3.13.0)\n",
      "\n",
      "\u001b[1m[\u001b[0m\u001b[34;49mnotice\u001b[0m\u001b[1;39;49m]\u001b[0m\u001b[39;49m A new release of pip is available: \u001b[0m\u001b[31;49m24.0\u001b[0m\u001b[39;49m -> \u001b[0m\u001b[32;49m25.1.1\u001b[0m\n",
      "\u001b[1m[\u001b[0m\u001b[34;49mnotice\u001b[0m\u001b[1;39;49m]\u001b[0m\u001b[39;49m To update, run: \u001b[0m\u001b[32;49mpip install --upgrade pip\u001b[0m\n"
     ]
    },
    {
     "name": "stdout",
     "output_type": "stream",
     "text": [
      "Requirement already satisfied: filelock in /home/kris/Documents/fyp/fyp_artefact/fyp_env/lib/python3.12/site-packages (from torch==2.7.0->torchaudio) (3.18.0)\n",
      "Requirement already satisfied: typing-extensions>=4.10.0 in /home/kris/Documents/fyp/fyp_artefact/fyp_env/lib/python3.12/site-packages (from torch==2.7.0->torchaudio) (4.13.2)\n",
      "Requirement already satisfied: setuptools in /home/kris/Documents/fyp/fyp_artefact/fyp_env/lib/python3.12/site-packages (from torch==2.7.0->torchaudio) (80.3.1)\n",
      "Requirement already satisfied: sympy>=1.13.3 in /home/kris/Documents/fyp/fyp_artefact/fyp_env/lib/python3.12/site-packages (from torch==2.7.0->torchaudio) (1.14.0)\n",
      "Requirement already satisfied: networkx in /home/kris/Documents/fyp/fyp_artefact/fyp_env/lib/python3.12/site-packages (from torch==2.7.0->torchaudio) (3.4.2)\n",
      "Requirement already satisfied: jinja2 in /home/kris/Documents/fyp/fyp_artefact/fyp_env/lib/python3.12/site-packages (from torch==2.7.0->torchaudio) (3.1.6)\n",
      "Requirement already satisfied: fsspec in /home/kris/Documents/fyp/fyp_artefact/fyp_env/lib/python3.12/site-packages (from torch==2.7.0->torchaudio) (2025.3.0)\n",
      "Requirement already satisfied: nvidia-cuda-nvrtc-cu12==12.6.77 in /home/kris/Documents/fyp/fyp_artefact/fyp_env/lib/python3.12/site-packages (from torch==2.7.0->torchaudio) (12.6.77)\n",
      "Requirement already satisfied: nvidia-cuda-runtime-cu12==12.6.77 in /home/kris/Documents/fyp/fyp_artefact/fyp_env/lib/python3.12/site-packages (from torch==2.7.0->torchaudio) (12.6.77)\n",
      "Requirement already satisfied: nvidia-cuda-cupti-cu12==12.6.80 in /home/kris/Documents/fyp/fyp_artefact/fyp_env/lib/python3.12/site-packages (from torch==2.7.0->torchaudio) (12.6.80)\n",
      "Requirement already satisfied: nvidia-cudnn-cu12==9.5.1.17 in /home/kris/Documents/fyp/fyp_artefact/fyp_env/lib/python3.12/site-packages (from torch==2.7.0->torchaudio) (9.5.1.17)\n",
      "Requirement already satisfied: nvidia-cublas-cu12==12.6.4.1 in /home/kris/Documents/fyp/fyp_artefact/fyp_env/lib/python3.12/site-packages (from torch==2.7.0->torchaudio) (12.6.4.1)\n",
      "Requirement already satisfied: nvidia-cufft-cu12==11.3.0.4 in /home/kris/Documents/fyp/fyp_artefact/fyp_env/lib/python3.12/site-packages (from torch==2.7.0->torchaudio) (11.3.0.4)\n",
      "Requirement already satisfied: nvidia-curand-cu12==10.3.7.77 in /home/kris/Documents/fyp/fyp_artefact/fyp_env/lib/python3.12/site-packages (from torch==2.7.0->torchaudio) (10.3.7.77)\n",
      "Requirement already satisfied: nvidia-cusolver-cu12==11.7.1.2 in /home/kris/Documents/fyp/fyp_artefact/fyp_env/lib/python3.12/site-packages (from torch==2.7.0->torchaudio) (11.7.1.2)\n",
      "Requirement already satisfied: nvidia-cusparse-cu12==12.5.4.2 in /home/kris/Documents/fyp/fyp_artefact/fyp_env/lib/python3.12/site-packages (from torch==2.7.0->torchaudio) (12.5.4.2)\n",
      "Requirement already satisfied: nvidia-cusparselt-cu12==0.6.3 in /home/kris/Documents/fyp/fyp_artefact/fyp_env/lib/python3.12/site-packages (from torch==2.7.0->torchaudio) (0.6.3)\n",
      "Requirement already satisfied: nvidia-nccl-cu12==2.26.2 in /home/kris/Documents/fyp/fyp_artefact/fyp_env/lib/python3.12/site-packages (from torch==2.7.0->torchaudio) (2.26.2)\n",
      "Requirement already satisfied: nvidia-nvtx-cu12==12.6.77 in /home/kris/Documents/fyp/fyp_artefact/fyp_env/lib/python3.12/site-packages (from torch==2.7.0->torchaudio) (12.6.77)\n",
      "Requirement already satisfied: nvidia-nvjitlink-cu12==12.6.85 in /home/kris/Documents/fyp/fyp_artefact/fyp_env/lib/python3.12/site-packages (from torch==2.7.0->torchaudio) (12.6.85)\n",
      "Requirement already satisfied: nvidia-cufile-cu12==1.11.1.6 in /home/kris/Documents/fyp/fyp_artefact/fyp_env/lib/python3.12/site-packages (from torch==2.7.0->torchaudio) (1.11.1.6)\n",
      "Requirement already satisfied: triton==3.3.0 in /home/kris/Documents/fyp/fyp_artefact/fyp_env/lib/python3.12/site-packages (from torch==2.7.0->torchaudio) (3.3.0)\n",
      "Requirement already satisfied: mpmath<1.4,>=1.1.0 in /home/kris/Documents/fyp/fyp_artefact/fyp_env/lib/python3.12/site-packages (from sympy>=1.13.3->torch==2.7.0->torchaudio) (1.3.0)\n",
      "Requirement already satisfied: MarkupSafe>=2.0 in /home/kris/Documents/fyp/fyp_artefact/fyp_env/lib/python3.12/site-packages (from jinja2->torch==2.7.0->torchaudio) (3.0.2)\n",
      "\n",
      "\u001b[1m[\u001b[0m\u001b[34;49mnotice\u001b[0m\u001b[1;39;49m]\u001b[0m\u001b[39;49m A new release of pip is available: \u001b[0m\u001b[31;49m24.0\u001b[0m\u001b[39;49m -> \u001b[0m\u001b[32;49m25.1.1\u001b[0m\n",
      "\u001b[1m[\u001b[0m\u001b[34;49mnotice\u001b[0m\u001b[1;39;49m]\u001b[0m\u001b[39;49m To update, run: \u001b[0m\u001b[32;49mpip install --upgrade pip\u001b[0m\n",
      "Requirement already satisfied: librosa in /home/kris/Documents/fyp/fyp_artefact/fyp_env/lib/python3.12/site-packages (0.11.0)\n",
      "Requirement already satisfied: audioread>=2.1.9 in /home/kris/Documents/fyp/fyp_artefact/fyp_env/lib/python3.12/site-packages (from librosa) (3.0.1)\n",
      "Requirement already satisfied: numba>=0.51.0 in /home/kris/Documents/fyp/fyp_artefact/fyp_env/lib/python3.12/site-packages (from librosa) (0.61.2)\n",
      "Requirement already satisfied: numpy>=1.22.3 in /home/kris/Documents/fyp/fyp_artefact/fyp_env/lib/python3.12/site-packages (from librosa) (2.2.5)\n",
      "Requirement already satisfied: scipy>=1.6.0 in /home/kris/Documents/fyp/fyp_artefact/fyp_env/lib/python3.12/site-packages (from librosa) (1.15.2)\n",
      "Requirement already satisfied: scikit-learn>=1.1.0 in /home/kris/Documents/fyp/fyp_artefact/fyp_env/lib/python3.12/site-packages (from librosa) (1.6.1)\n",
      "Requirement already satisfied: joblib>=1.0 in /home/kris/Documents/fyp/fyp_artefact/fyp_env/lib/python3.12/site-packages (from librosa) (1.5.0)\n",
      "Requirement already satisfied: decorator>=4.3.0 in /home/kris/Documents/fyp/fyp_artefact/fyp_env/lib/python3.12/site-packages (from librosa) (5.2.1)\n",
      "Requirement already satisfied: soundfile>=0.12.1 in /home/kris/Documents/fyp/fyp_artefact/fyp_env/lib/python3.12/site-packages (from librosa) (0.13.1)\n",
      "Requirement already satisfied: pooch>=1.1 in /home/kris/Documents/fyp/fyp_artefact/fyp_env/lib/python3.12/site-packages (from librosa) (1.8.2)\n",
      "Requirement already satisfied: soxr>=0.3.2 in /home/kris/Documents/fyp/fyp_artefact/fyp_env/lib/python3.12/site-packages (from librosa) (0.5.0.post1)\n",
      "Requirement already satisfied: typing_extensions>=4.1.1 in /home/kris/Documents/fyp/fyp_artefact/fyp_env/lib/python3.12/site-packages (from librosa) (4.13.2)\n",
      "Requirement already satisfied: lazy_loader>=0.1 in /home/kris/Documents/fyp/fyp_artefact/fyp_env/lib/python3.12/site-packages (from librosa) (0.4)\n",
      "Requirement already satisfied: msgpack>=1.0 in /home/kris/Documents/fyp/fyp_artefact/fyp_env/lib/python3.12/site-packages (from librosa) (1.1.0)\n",
      "Requirement already satisfied: packaging in /home/kris/Documents/fyp/fyp_artefact/fyp_env/lib/python3.12/site-packages (from lazy_loader>=0.1->librosa) (25.0)\n",
      "Requirement already satisfied: llvmlite<0.45,>=0.44.0dev0 in /home/kris/Documents/fyp/fyp_artefact/fyp_env/lib/python3.12/site-packages (from numba>=0.51.0->librosa) (0.44.0)\n",
      "Requirement already satisfied: platformdirs>=2.5.0 in /home/kris/Documents/fyp/fyp_artefact/fyp_env/lib/python3.12/site-packages (from pooch>=1.1->librosa) (4.3.7)\n",
      "Requirement already satisfied: requests>=2.19.0 in /home/kris/Documents/fyp/fyp_artefact/fyp_env/lib/python3.12/site-packages (from pooch>=1.1->librosa) (2.32.3)\n",
      "Requirement already satisfied: threadpoolctl>=3.1.0 in /home/kris/Documents/fyp/fyp_artefact/fyp_env/lib/python3.12/site-packages (from scikit-learn>=1.1.0->librosa) (3.6.0)\n",
      "Requirement already satisfied: cffi>=1.0 in /home/kris/Documents/fyp/fyp_artefact/fyp_env/lib/python3.12/site-packages (from soundfile>=0.12.1->librosa) (1.17.1)\n",
      "Requirement already satisfied: pycparser in /home/kris/Documents/fyp/fyp_artefact/fyp_env/lib/python3.12/site-packages (from cffi>=1.0->soundfile>=0.12.1->librosa) (2.22)\n",
      "Requirement already satisfied: charset-normalizer<4,>=2 in /home/kris/Documents/fyp/fyp_artefact/fyp_env/lib/python3.12/site-packages (from requests>=2.19.0->pooch>=1.1->librosa) (3.4.2)\n",
      "Requirement already satisfied: idna<4,>=2.5 in /home/kris/Documents/fyp/fyp_artefact/fyp_env/lib/python3.12/site-packages (from requests>=2.19.0->pooch>=1.1->librosa) (3.10)\n",
      "Requirement already satisfied: urllib3<3,>=1.21.1 in /home/kris/Documents/fyp/fyp_artefact/fyp_env/lib/python3.12/site-packages (from requests>=2.19.0->pooch>=1.1->librosa) (2.4.0)\n",
      "Requirement already satisfied: certifi>=2017.4.17 in /home/kris/Documents/fyp/fyp_artefact/fyp_env/lib/python3.12/site-packages (from requests>=2.19.0->pooch>=1.1->librosa) (2025.4.26)\n"
     ]
    },
    {
     "name": "stdout",
     "output_type": "stream",
     "text": [
      "\n",
      "\u001b[1m[\u001b[0m\u001b[34;49mnotice\u001b[0m\u001b[1;39;49m]\u001b[0m\u001b[39;49m A new release of pip is available: \u001b[0m\u001b[31;49m24.0\u001b[0m\u001b[39;49m -> \u001b[0m\u001b[32;49m25.1.1\u001b[0m\n",
      "\u001b[1m[\u001b[0m\u001b[34;49mnotice\u001b[0m\u001b[1;39;49m]\u001b[0m\u001b[39;49m To update, run: \u001b[0m\u001b[32;49mpip install --upgrade pip\u001b[0m\n",
      "Requirement already satisfied: jiwer in /home/kris/Documents/fyp/fyp_artefact/fyp_env/lib/python3.12/site-packages (3.1.0)\n",
      "Requirement already satisfied: click>=8.1.8 in /home/kris/Documents/fyp/fyp_artefact/fyp_env/lib/python3.12/site-packages (from jiwer) (8.1.8)\n",
      "Requirement already satisfied: rapidfuzz>=3.9.7 in /home/kris/Documents/fyp/fyp_artefact/fyp_env/lib/python3.12/site-packages (from jiwer) (3.13.0)\n",
      "\n",
      "\u001b[1m[\u001b[0m\u001b[34;49mnotice\u001b[0m\u001b[1;39;49m]\u001b[0m\u001b[39;49m A new release of pip is available: \u001b[0m\u001b[31;49m24.0\u001b[0m\u001b[39;49m -> \u001b[0m\u001b[32;49m25.1.1\u001b[0m\n",
      "\u001b[1m[\u001b[0m\u001b[34;49mnotice\u001b[0m\u001b[1;39;49m]\u001b[0m\u001b[39;49m To update, run: \u001b[0m\u001b[32;49mpip install --upgrade pip\u001b[0m\n"
     ]
    }
   ],
   "source": [
    "#!pip install fairseq #for finetuning\\\n",
    "!pip install --upgrade datasets\n",
    "!pip install transformers\n",
    "!pip install torchaudio\n",
    "!pip install librosa\n",
    "!pip install jiwer"
   ]
  },
  {
   "cell_type": "code",
   "execution_count": 3,
   "metadata": {
    "executionInfo": {
     "elapsed": 25643,
     "status": "ok",
     "timestamp": 1746580659987,
     "user": {
      "displayName": "Kristeen Chase",
      "userId": "06112654503790926343"
     },
     "user_tz": 240
    },
    "id": "QEj0qmtTzkNk"
   },
   "outputs": [],
   "source": [
    "import torch\n",
    "# from transformers import Wav2Vec2ForCTC, Wav2Vec2Tokenizer"
   ]
  },
  {
   "cell_type": "code",
   "execution_count": 23,
   "metadata": {
    "executionInfo": {
     "elapsed": 1135,
     "status": "ok",
     "timestamp": 1746580661119,
     "user": {
      "displayName": "Kristeen Chase",
      "userId": "06112654503790926343"
     },
     "user_tz": 240
    },
    "id": "rrIKp4A8zHwg"
   },
   "outputs": [],
   "source": [
    "from transformers import Wav2Vec2Processor, Wav2Vec2CTCTokenizer, Wav2Vec2FeatureExtractor\n",
    "import json\n",
    "\n",
    "\n",
    "# processor = Wav2Vec2Processor.from_pretrained(\"facebook/wav2vec2-large-xlsr-53\")\n",
    "processor = Wav2Vec2Processor.from_pretrained(\"facebook/wav2vec2-large-960h\")\n"
   ]
  },
  {
   "cell_type": "code",
   "execution_count": 24,
   "metadata": {},
   "outputs": [
    {
     "name": "stderr",
     "output_type": "stream",
     "text": [
      "Some weights of Wav2Vec2ForCTC were not initialized from the model checkpoint at facebook/wav2vec2-large-960h and are newly initialized: ['wav2vec2.masked_spec_embed']\n",
      "You should probably TRAIN this model on a down-stream task to be able to use it for predictions and inference.\n"
     ]
    }
   ],
   "source": [
    "from transformers import Wav2Vec2Processor, Wav2Vec2ForCTC\n",
    "import torchaudio\n",
    "import torch\n",
    "\n",
    "# Load the Wav2Vec2 model (pre-trained but not fine-tuned)\n",
    "model_name = \"facebook/wav2vec2-large-960h\"\n",
    "# model_name = \"facebook/wav2vec2-large-xlsr-53\"\n",
    "model = Wav2Vec2ForCTC.from_pretrained(model_name)"
   ]
  },
  {
   "cell_type": "code",
   "execution_count": 6,
   "metadata": {
    "colab": {
     "base_uri": "https://localhost:8080/"
    },
    "executionInfo": {
     "elapsed": 63530,
     "status": "ok",
     "timestamp": 1746581229649,
     "user": {
      "displayName": "Kristeen Chase",
      "userId": "06112654503790926343"
     },
     "user_tz": 240
    },
    "id": "jwUwex560C_F",
    "outputId": "7a5e37d9-a4ee-4b40-82a5-67dd8210628c"
   },
   "outputs": [
    {
     "name": "stdout",
     "output_type": "stream",
     "text": [
      "{'<pad>': 0, '<s>': 1, '</s>': 2, '<unk>': 3, '|': 4, 'E': 5, 'T': 6, 'A': 7, 'O': 8, 'N': 9, 'I': 10, 'H': 11, 'S': 12, 'R': 13, 'D': 14, 'L': 15, 'U': 16, 'M': 17, 'W': 18, 'C': 19, 'F': 20, 'G': 21, 'Y': 22, 'P': 23, 'B': 24, 'V': 25, 'K': 26, \"'\": 27, 'X': 28, 'J': 29, 'Q': 30, 'Z': 31}\n",
      "Transcription: I NEVER REALLY ASK SHE BUT SHIS SITUATION BECUT WHAN I DEALING WITH A GIRL I DON'T CARE BOT SHE PART HAD ON REALLY KEBOLD ON NOW YOU KNOW WHEN I DEALING WITH A GIRL IS ME SHE NOMONEY IN GON NOR NOBONEY BLIKES TO KNOW YOU KNOW WE COULD KEEP IT LOW KEY YOU KNOW THIS ME FROM BUT MEAN AL THIS MONEY BE EVEN S ON AG I TELL YOU JUST SO MY TEXT MEN TWELVE O'CROCKIN IN IT TWE O'CLOCK IN THE MORNING BUT BOR SHIFE IF I WANT HE SENT PITY WIT HIS HE IN AAKME THAT ONER IS TO GRIN A FOR THIS LITTLE MARBY WILL TALK I DON'T TELL HIM ONTAT I JUST LEFT AS THOUGH\n"
     ]
    }
   ],
   "source": [
    "\n",
    "# Load an audio file\n",
    "waveform, sample_rate = torchaudio.load(\"./creolese-audio-dataset/Audio Files/3.wav\")\n",
    "\n",
    "# Convert to 16kHz (Wav2Vec2 requires this)\n",
    "if sample_rate != 16000:\n",
    "    waveform = torchaudio.transforms.Resample(orig_freq=sample_rate, new_freq=16000)(waveform)\n",
    "\n",
    "# Process the audio\n",
    "input_values = processor(waveform.squeeze().numpy(), return_tensors=\"pt\", padding=True, sampling_rate=16000).input_values\n",
    "\n",
    "# Get predictions\n",
    "with torch.no_grad():\n",
    "    logits = model(input_values).logits\n",
    "\n",
    "# Convert predictions to text\n",
    "predicted_ids = torch.argmax(logits, dim=-1)\n",
    "transcription = processor.batch_decode(predicted_ids)\n",
    "\n",
    "print(processor.tokenizer.get_vocab())\n",
    "\n",
    "\n",
    "print(\"Transcription:\", transcription[0])  # Output the text\n"
   ]
  },
  {
   "cell_type": "markdown",
   "metadata": {
    "id": "i6OSQhu1Rcjd"
   },
   "source": [
    "# Load the dataset"
   ]
  },
  {
   "cell_type": "code",
   "execution_count": 25,
   "metadata": {
    "executionInfo": {
     "elapsed": 2,
     "status": "ok",
     "timestamp": 1746580661273,
     "user": {
      "displayName": "Kristeen Chase",
      "userId": "06112654503790926343"
     },
     "user_tz": 240
    },
    "id": "tp-c9B__RrPX"
   },
   "outputs": [],
   "source": [
    "audio_path = \"./creolese-audio-dataset/Audio Files\"\n",
    "transcription_path = \"./creolese-audio-dataset/transcripts.json\""
   ]
  },
  {
   "cell_type": "markdown",
   "metadata": {
    "id": "tgHp7jnORxW_"
   },
   "source": [
    "# Start compiling the references and hypotheses"
   ]
  },
  {
   "cell_type": "code",
   "execution_count": 13,
   "metadata": {},
   "outputs": [
    {
     "name": "stdout",
     "output_type": "stream",
     "text": [
      "Requirement already satisfied: jiwer in /home/kris/Documents/fyp/fyp_artefact/fyp_env/lib/python3.11/site-packages (3.1.0)\n",
      "Requirement already satisfied: click>=8.1.8 in /home/kris/Documents/fyp/fyp_artefact/fyp_env/lib/python3.11/site-packages (from jiwer) (8.1.8)\n",
      "Requirement already satisfied: rapidfuzz>=3.9.7 in /home/kris/Documents/fyp/fyp_artefact/fyp_env/lib/python3.11/site-packages (from jiwer) (3.13.0)\n",
      "\n",
      "\u001b[1m[\u001b[0m\u001b[34;49mnotice\u001b[0m\u001b[1;39;49m]\u001b[0m\u001b[39;49m A new release of pip is available: \u001b[0m\u001b[31;49m24.0\u001b[0m\u001b[39;49m -> \u001b[0m\u001b[32;49m25.1.1\u001b[0m\n",
      "\u001b[1m[\u001b[0m\u001b[34;49mnotice\u001b[0m\u001b[1;39;49m]\u001b[0m\u001b[39;49m To update, run: \u001b[0m\u001b[32;49mpip install --upgrade pip\u001b[0m\n"
     ]
    }
   ],
   "source": [
    "!pip install jiwer"
   ]
  },
  {
   "cell_type": "code",
   "execution_count": 26,
   "metadata": {
    "executionInfo": {
     "elapsed": 1140,
     "status": "ok",
     "timestamp": 1746581146849,
     "user": {
      "displayName": "Kristeen Chase",
      "userId": "06112654503790926343"
     },
     "user_tz": 240
    },
    "id": "dq2ye4VZSRda"
   },
   "outputs": [],
   "source": [
    "import os\n",
    "import json\n",
    "import torchaudio\n",
    "import torch\n",
    "from jiwer import wer, cer, mer\n",
    "\n",
    "os.environ['KMP_DUPLICATE_LIB_OK'] = 'True'"
   ]
  },
  {
   "cell_type": "code",
   "execution_count": 30,
   "metadata": {
    "id": "-aksGJ-lRw_5"
   },
   "outputs": [
    {
     "name": "stdout",
     "output_type": "stream",
     "text": [
      "Transcribed: Audio Files/1.wav\n",
      "Transcribed: Audio Files/2.wav\n",
      "Transcribed: Audio Files/3.wav\n",
      "Transcribed: Audio Files/4.wav\n",
      "Transcribed: Audio Files/5.wav\n",
      "Transcribed: Audio Files/6.wav\n",
      "Transcribed: Audio Files/7.wav\n",
      "Transcribed: Audio Files/8.wav\n",
      "Transcribed: Audio Files/9.wav\n",
      "Transcribed: Audio Files/10.wav\n",
      "Transcribed: Audio Files/11.wav\n",
      "Transcribed: Audio Files/12.wav\n",
      "Transcribed: Audio Files/13.wav\n",
      "Transcribed: Audio Files/14.wav\n",
      "Transcribed: Audio Files/15.wav\n",
      "Transcribed: Audio Files/16.wav\n",
      "Transcribed: Audio Files/17.wav\n",
      "Transcribed: Audio Files/18.wav\n",
      "Transcribed: Audio Files/19.wav\n",
      "Transcribed: Audio Files/20.wav\n",
      "Transcribed: Audio Files/21.wav\n",
      "Transcribed: Audio Files/22.wav\n",
      "Transcribed: ./Audio Files/23.wav\n",
      "Transcribed: Audio Files/24.wav\n",
      "Transcribed: Audio Files/25.wav\n",
      "Transcribed: Audio Files/26.wav\n",
      "Transcribed: Audio Files/27.wav\n",
      "Transcribed: Audio Files/28.wav\n",
      "Transcribed: Audio Files/29.wav\n",
      "Transcribed: Audio Files/30.wav\n",
      "Transcribed: Audio Files/31.wav\n",
      "Transcribed: Audio Files/32.wav\n",
      "Transcribed: Audio Files/33.wav\n",
      "Transcribed: Audio Files/34.wav\n",
      "Transcribed: Audio Files/35.wav\n",
      "Transcribed: Audio Files/36.wav\n"
     ]
    },
    {
     "ename": "NameError",
     "evalue": "name 'ground_truth' is not defined",
     "output_type": "error",
     "traceback": [
      "\u001b[31m---------------------------------------------------------------------------\u001b[39m",
      "\u001b[31mNameError\u001b[39m                                 Traceback (most recent call last)",
      "\u001b[36mCell\u001b[39m\u001b[36m \u001b[39m\u001b[32mIn[30]\u001b[39m\u001b[32m, line 43\u001b[39m\n\u001b[32m     40\u001b[39m     \u001b[38;5;28;01mdel\u001b[39;00m input_values, predicted_ids\n\u001b[32m     41\u001b[39m     \u001b[38;5;28;01mimport\u001b[39;00m\u001b[38;5;250m \u001b[39m\u001b[34;01mgc\u001b[39;00m; gc.collect()\n\u001b[32m---> \u001b[39m\u001b[32m43\u001b[39m output_data = [{\u001b[33m\"\u001b[39m\u001b[33mref\u001b[39m\u001b[33m\"\u001b[39m: ref, \u001b[33m\"\u001b[39m\u001b[33mhyp\u001b[39m\u001b[33m\"\u001b[39m: hyp} \u001b[38;5;28;01mfor\u001b[39;00m ref, hyp \u001b[38;5;129;01min\u001b[39;00m \u001b[38;5;28mzip\u001b[39m(\u001b[43mground_truth\u001b[49m, predictions)]\n\u001b[32m     45\u001b[39m \u001b[38;5;28;01mwith\u001b[39;00m \u001b[38;5;28mopen\u001b[39m(\u001b[33m\"\u001b[39m\u001b[33m./wav2vec2_pretrain_predictions.json\u001b[39m\u001b[33m\"\u001b[39m, \u001b[33m\"\u001b[39m\u001b[33mw\u001b[39m\u001b[33m\"\u001b[39m) \u001b[38;5;28;01mas\u001b[39;00m out_file:\n\u001b[32m     46\u001b[39m     json.dump(output_data, out_file, indent=\u001b[32m4\u001b[39m)\n",
      "\u001b[31mNameError\u001b[39m: name 'ground_truth' is not defined"
     ]
    }
   ],
   "source": [
    "\n",
    "with open(transcription_path, \"r\") as f:\n",
    "    dataset = json.load(f)\n",
    "\n",
    "predictions = []\n",
    "ground_truths = []\n",
    "device = \"cpu\"\n",
    "for item in dataset:  # your dataset is a list of {audio, text, language}\n",
    "        # Load audio file\n",
    "    waveform, sample_rate = torchaudio.load(f'./creolese-audio-dataset/{item[\"audio\"]}')\n",
    "\n",
    "    \"\"\"\n",
    "    Should probably turn this into a function\n",
    "    \"\"\"\n",
    "    # waveform, sample_rate = torchaudio.load(\"./creolese-audio-dataset/Audio Files/3.wav\")\n",
    "\n",
    "    # Convert to 16kHz (Wav2Vec2 requires this)\n",
    "    if sample_rate != 16000:\n",
    "        waveform = torchaudio.transforms.Resample(orig_freq=sample_rate, new_freq=16000)(waveform)\n",
    "    try:\n",
    "        \n",
    "        # Process the audio\n",
    "        input_values = processor(waveform.squeeze().numpy(), return_tensors=\"pt\", padding=True, sampling_rate=16000).input_values\n",
    "        \n",
    "        # Get predictions\n",
    "        with torch.no_grad():\n",
    "            logits = model(input_values).logits\n",
    "    \n",
    "        predicted_ids = torch.argmax(logits, dim=-1)\n",
    "        predicted_text = processor.batch_decode(predicted_ids, skip_special_tokens=True)[0]\n",
    "        print(f'Transcribed: {item[\"audio\"]}')\n",
    "\n",
    "    except Exception as e:\n",
    "        print(f\"Exception: {e}\")\n",
    "    \n",
    "    \n",
    "    predictions.append(predicted_text)\n",
    "    ground_truths.append(item[\"text\"])\n",
    "    \n",
    "    # Manually clear memory each iteration\n",
    "    del input_values, predicted_ids\n",
    "    import gc; gc.collect()\n"
   ]
  },
  {
   "cell_type": "code",
   "execution_count": 31,
   "metadata": {},
   "outputs": [],
   "source": [
    "\n",
    "output_data = [{\"ref\": ref, \"hyp\": hyp} for ref, hyp in zip(ground_truths, predictions)]\n",
    "\n",
    "with open(\"./wav2vec2_pretrain_predictions.json\", \"w\") as out_file:\n",
    "    json.dump(output_data, out_file, indent=4)"
   ]
  },
  {
   "cell_type": "code",
   "execution_count": 15,
   "metadata": {},
   "outputs": [
    {
     "ename": "ValueError",
     "evalue": "After applying the transformation, each reference should be a non-empty list of strings, with each string being a single word.",
     "output_type": "error",
     "traceback": [
      "\u001b[31m---------------------------------------------------------------------------\u001b[39m",
      "\u001b[31mValueError\u001b[39m                                Traceback (most recent call last)",
      "\u001b[36mCell\u001b[39m\u001b[36m \u001b[39m\u001b[32mIn[15]\u001b[39m\u001b[32m, line 10\u001b[39m\n\u001b[32m      1\u001b[39m \u001b[38;5;28;01mimport\u001b[39;00m\u001b[38;5;250m \u001b[39m\u001b[34;01mjiwer\u001b[39;00m\n\u001b[32m      3\u001b[39m transform = jiwer.Compose([\n\u001b[32m      4\u001b[39m     jiwer.ToLowerCase(),\n\u001b[32m      5\u001b[39m     jiwer.RemovePunctuation(),\n\u001b[32m      6\u001b[39m     jiwer.Strip(),\n\u001b[32m      7\u001b[39m     jiwer.RemoveMultipleSpaces()\n\u001b[32m      8\u001b[39m ])\n\u001b[32m---> \u001b[39m\u001b[32m10\u001b[39m wer = \u001b[43mjiwer\u001b[49m\u001b[43m.\u001b[49m\u001b[43mwer\u001b[49m\u001b[43m(\u001b[49m\u001b[43mground_truths\u001b[49m\u001b[43m,\u001b[49m\u001b[43m \u001b[49m\u001b[43mpredictions\u001b[49m\u001b[43m,\u001b[49m\u001b[43m \u001b[49m\u001b[43mtruth_transform\u001b[49m\u001b[43m=\u001b[49m\u001b[43mtransform\u001b[49m\u001b[43m,\u001b[49m\u001b[43m \u001b[49m\u001b[43mhypothesis_transform\u001b[49m\u001b[43m=\u001b[49m\u001b[43mtransform\u001b[49m\u001b[43m)\u001b[49m\n\u001b[32m     11\u001b[39m cer = jiwer.cer(ground_truths, predictions, truth_transform=transform, hypothesis_transform=transform)\n\u001b[32m     12\u001b[39m mer = jiwer.mer(ground_truths, predictions, truth_transform=transform, hypothesis_transform=transform)\n",
      "\u001b[36mFile \u001b[39m\u001b[32m~/Documents/fyp/fyp_artefact/fyp_env/lib/python3.11/site-packages/jiwer/measures.py:111\u001b[39m, in \u001b[36mwer\u001b[39m\u001b[34m(reference, hypothesis, reference_transform, hypothesis_transform, truth, truth_transform)\u001b[39m\n\u001b[32m     74\u001b[39m \u001b[38;5;250m\u001b[39m\u001b[33;03m\"\"\"\u001b[39;00m\n\u001b[32m     75\u001b[39m \u001b[33;03mCalculate the word error rate (WER) between one or more reference and\u001b[39;00m\n\u001b[32m     76\u001b[39m \u001b[33;03mhypothesis sentences.\u001b[39;00m\n\u001b[32m   (...)\u001b[39m\u001b[32m     95\u001b[39m \u001b[33;03m             hypothesis sentence(s).\u001b[39;00m\n\u001b[32m     96\u001b[39m \u001b[33;03m\"\"\"\u001b[39;00m\n\u001b[32m     97\u001b[39m (\n\u001b[32m     98\u001b[39m     reference,\n\u001b[32m     99\u001b[39m     hypothesis,\n\u001b[32m   (...)\u001b[39m\u001b[32m    108\u001b[39m     hypothesis_transform=hypothesis_transform,\n\u001b[32m    109\u001b[39m )\n\u001b[32m--> \u001b[39m\u001b[32m111\u001b[39m output = \u001b[43mprocess_words\u001b[49m\u001b[43m(\u001b[49m\n\u001b[32m    112\u001b[39m \u001b[43m    \u001b[49m\u001b[43mreference\u001b[49m\u001b[43m,\u001b[49m\u001b[43m \u001b[49m\u001b[43mhypothesis\u001b[49m\u001b[43m,\u001b[49m\u001b[43m \u001b[49m\u001b[43mreference_transform\u001b[49m\u001b[43m,\u001b[49m\u001b[43m \u001b[49m\u001b[43mhypothesis_transform\u001b[49m\n\u001b[32m    113\u001b[39m \u001b[43m\u001b[49m\u001b[43m)\u001b[49m\n\u001b[32m    114\u001b[39m \u001b[38;5;28;01mreturn\u001b[39;00m output.wer\n",
      "\u001b[36mFile \u001b[39m\u001b[32m~/Documents/fyp/fyp_artefact/fyp_env/lib/python3.11/site-packages/jiwer/process.py:168\u001b[39m, in \u001b[36mprocess_words\u001b[39m\u001b[34m(reference, hypothesis, reference_transform, hypothesis_transform)\u001b[39m\n\u001b[32m    165\u001b[39m     \u001b[38;5;28;01mraise\u001b[39;00m \u001b[38;5;167;01mValueError\u001b[39;00m(\u001b[33m\"\u001b[39m\u001b[33mone or more references are empty strings\u001b[39m\u001b[33m\"\u001b[39m)\n\u001b[32m    167\u001b[39m \u001b[38;5;66;03m# pre-process reference and hypothesis by applying transforms\u001b[39;00m\n\u001b[32m--> \u001b[39m\u001b[32m168\u001b[39m ref_transformed = \u001b[43m_apply_transform\u001b[49m\u001b[43m(\u001b[49m\n\u001b[32m    169\u001b[39m \u001b[43m    \u001b[49m\u001b[43mreference\u001b[49m\u001b[43m,\u001b[49m\u001b[43m \u001b[49m\u001b[43mreference_transform\u001b[49m\u001b[43m,\u001b[49m\u001b[43m \u001b[49m\u001b[43mis_reference\u001b[49m\u001b[43m=\u001b[49m\u001b[38;5;28;43;01mTrue\u001b[39;49;00m\n\u001b[32m    170\u001b[39m \u001b[43m\u001b[49m\u001b[43m)\u001b[49m\n\u001b[32m    171\u001b[39m hyp_transformed = _apply_transform(\n\u001b[32m    172\u001b[39m     hypothesis, hypothesis_transform, is_reference=\u001b[38;5;28;01mFalse\u001b[39;00m\n\u001b[32m    173\u001b[39m )\n\u001b[32m    175\u001b[39m \u001b[38;5;28;01mif\u001b[39;00m \u001b[38;5;28mlen\u001b[39m(ref_transformed) != \u001b[38;5;28mlen\u001b[39m(hyp_transformed):\n",
      "\u001b[36mFile \u001b[39m\u001b[32m~/Documents/fyp/fyp_artefact/fyp_env/lib/python3.11/site-packages/jiwer/process.py:369\u001b[39m, in \u001b[36m_apply_transform\u001b[39m\u001b[34m(sentence, transform, is_reference)\u001b[39m\n\u001b[32m    365\u001b[39m \u001b[38;5;28;01mif\u001b[39;00m is_reference:\n\u001b[32m    366\u001b[39m     \u001b[38;5;28;01mif\u001b[39;00m \u001b[38;5;129;01mnot\u001b[39;00m _is_list_of_list_of_strings(\n\u001b[32m    367\u001b[39m         transformed_sentence, require_non_empty_lists=\u001b[38;5;28;01mTrue\u001b[39;00m\n\u001b[32m    368\u001b[39m     ):\n\u001b[32m--> \u001b[39m\u001b[32m369\u001b[39m         \u001b[38;5;28;01mraise\u001b[39;00m \u001b[38;5;167;01mValueError\u001b[39;00m(\n\u001b[32m    370\u001b[39m             \u001b[33m\"\u001b[39m\u001b[33mAfter applying the transformation, each reference should be a \u001b[39m\u001b[33m\"\u001b[39m\n\u001b[32m    371\u001b[39m             \u001b[33m\"\u001b[39m\u001b[33mnon-empty list of strings, with each string being a single word.\u001b[39m\u001b[33m\"\u001b[39m\n\u001b[32m    372\u001b[39m         )\n\u001b[32m    373\u001b[39m \u001b[38;5;28;01melse\u001b[39;00m:\n\u001b[32m    374\u001b[39m     \u001b[38;5;28;01mif\u001b[39;00m \u001b[38;5;129;01mnot\u001b[39;00m _is_list_of_list_of_strings(\n\u001b[32m    375\u001b[39m         transformed_sentence, require_non_empty_lists=\u001b[38;5;28;01mFalse\u001b[39;00m\n\u001b[32m    376\u001b[39m     ):\n",
      "\u001b[31mValueError\u001b[39m: After applying the transformation, each reference should be a non-empty list of strings, with each string being a single word."
     ]
    }
   ],
   "source": [
    "import jiwer\n",
    "\n",
    "transform = jiwer.Compose([\n",
    "    jiwer.ToLowerCase(),\n",
    "    jiwer.RemovePunctuation(),\n",
    "    jiwer.Strip(),\n",
    "    jiwer.RemoveMultipleSpaces()\n",
    "])\n",
    "\n",
    "wer = jiwer.wer(ground_truths, predictions, truth_transform=transform, hypothesis_transform=transform)\n",
    "cer = jiwer.cer(ground_truths, predictions, truth_transform=transform, hypothesis_transform=transform)\n",
    "mer = jiwer.mer(ground_truths, predictions, truth_transform=transform, hypothesis_transform=transform)\n",
    "\n",
    "print(f\"WER: {wer*100:.2f}%\")"
   ]
  }
 ],
 "metadata": {
  "colab": {
   "authorship_tag": "ABX9TyPLVJJ1ADVF8gE2DPPTRWww",
   "mount_file_id": "1hIDkdBYIQzb4Ph2iT5rosfSbLj0bBbur",
   "provenance": []
  },
  "kernelspec": {
   "display_name": "Python 3 (ipykernel)",
   "language": "python",
   "name": "python3"
  },
  "language_info": {
   "codemirror_mode": {
    "name": "ipython",
    "version": 3
   },
   "file_extension": ".py",
   "mimetype": "text/x-python",
   "name": "python",
   "nbconvert_exporter": "python",
   "pygments_lexer": "ipython3",
   "version": "3.11.12"
  }
 },
 "nbformat": 4,
 "nbformat_minor": 4
}
