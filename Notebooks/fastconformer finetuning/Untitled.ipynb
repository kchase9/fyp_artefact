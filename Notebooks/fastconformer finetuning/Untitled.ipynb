{
 "cells": [
  {
   "cell_type": "code",
   "execution_count": null,
   "id": "40a5ad3d-5c99-445e-bd42-d61e86fe0674",
   "metadata": {},
   "outputs": [],
   "source": [
    "import json\n",
    "import os\n",
    "import random\n",
    "from sklearn.model_selection import train_test_split\n",
    "\n",
    "# Load your existing manifest\n",
    "with open(\"../creolese-audio-dataset/transcripts.json\", \"r\") as f:\n",
    "    dataset = json.load(f)\n",
    "\n",
    "# Convert to NeMo manifest format\n",
    "nemo_manifest = []\n",
    "for item in dataset:\n",
    "    filename = os.path.basename(item[\"audio\"])\n",
    "    audio_path = os.path.join(\"./creolese-audio-dataset/Audio Files\", filename)\n",
    "\n",
    "    # Get audio duration\n",
    "    import soundfile as sf\n",
    "\n",
    "    def get_duration(audio_path):\n",
    "        audio_data, sample_rate = sf.read(audio_path)\n",
    "        duration = len(audio_data) / sample_rate\n",
    "        return duration\n",
    "\n",
    "    try:\n",
    "        duration = get_duration(audio_path)\n",
    "\n",
    "        entry = {\n",
    "            \"audio_filepath\": os.path.abspath(audio_path),\n",
    "            \"text\": item[\"text\"],\n",
    "            \"duration\": duration\n",
    "        }\n",
    "        nemo_manifest.append(entry)\n",
    "    except Exception as e:\n",
    "        print(f\"Error processing {audio_path}: {e}\")\n",
    "\n",
    "# Split data: 80% train, 10% validation, 10% test\n",
    "train_val, test = train_test_split(nemo_manifest, test_size=0.1, random_state=42)\n",
    "train, val = train_test_split(train_val, test_size=0.11, random_state=42)  # 0.11 of 90% is ~10% of total\n",
    "\n",
    "# Write manifests - one entry per line in JSONL format\n",
    "def write_manifest(entries, filename):\n",
    "        with open(filename, 'w') as f:\n",
    "                    for entry in entries:\n",
    "                                    f.write(json.dumps(entry) + '\\n')\n",
    "\n",
    "            write_manifest(train, \"train_manifest.json\")\n",
    "write_manifest(val, \"val_manifest.json\")\n",
    "write_manifest(test, \"test_manifest.json\")"
   ]
  }
 ],
 "metadata": {
  "kernelspec": {
   "display_name": "Python 3 (ipykernel)",
   "language": "python",
   "name": "python3"
  },
  "language_info": {
   "codemirror_mode": {
    "name": "ipython",
    "version": 3
   },
   "file_extension": ".py",
   "mimetype": "text/x-python",
   "name": "python",
   "nbconvert_exporter": "python",
   "pygments_lexer": "ipython3",
   "version": "3.11.12"
  }
 },
 "nbformat": 4,
 "nbformat_minor": 5
}
